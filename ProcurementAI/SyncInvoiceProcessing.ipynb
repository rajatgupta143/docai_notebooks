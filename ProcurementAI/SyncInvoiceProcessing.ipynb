{
 "cells": [
  {
   "cell_type": "code",
   "execution_count": 3,
   "metadata": {
    "collapsed": true,
    "jupyter": {
     "outputs_hidden": true
    }
   },
   "outputs": [
    {
     "name": "stdout",
     "output_type": "stream",
     "text": [
      "Requirement already up-to-date: google-cloud-documentai in /opt/conda/lib/python3.7/site-packages (0.3.0)\n",
      "Requirement already satisfied, skipping upgrade: google-api-core[grpc]<2.0.0dev,>=1.22.0 in /opt/conda/lib/python3.7/site-packages (from google-cloud-documentai) (1.23.0)\n",
      "Requirement already satisfied, skipping upgrade: proto-plus>=1.10.0 in /opt/conda/lib/python3.7/site-packages (from google-cloud-documentai) (1.11.0)\n",
      "Requirement already satisfied, skipping upgrade: google-auth<2.0dev,>=1.21.1 in /opt/conda/lib/python3.7/site-packages (from google-api-core[grpc]<2.0.0dev,>=1.22.0->google-cloud-documentai) (1.21.1)\n",
      "Requirement already satisfied, skipping upgrade: googleapis-common-protos<2.0dev,>=1.6.0 in /opt/conda/lib/python3.7/site-packages (from google-api-core[grpc]<2.0.0dev,>=1.22.0->google-cloud-documentai) (1.52.0)\n",
      "Requirement already satisfied, skipping upgrade: six>=1.13.0 in /opt/conda/lib/python3.7/site-packages (from google-api-core[grpc]<2.0.0dev,>=1.22.0->google-cloud-documentai) (1.15.0)\n",
      "Requirement already satisfied, skipping upgrade: requests<3.0.0dev,>=2.18.0 in /opt/conda/lib/python3.7/site-packages (from google-api-core[grpc]<2.0.0dev,>=1.22.0->google-cloud-documentai) (2.23.0)\n",
      "Requirement already satisfied, skipping upgrade: protobuf>=3.12.0 in /opt/conda/lib/python3.7/site-packages (from google-api-core[grpc]<2.0.0dev,>=1.22.0->google-cloud-documentai) (3.12.2)\n",
      "Requirement already satisfied, skipping upgrade: pytz in /opt/conda/lib/python3.7/site-packages (from google-api-core[grpc]<2.0.0dev,>=1.22.0->google-cloud-documentai) (2020.1)\n",
      "Requirement already satisfied, skipping upgrade: setuptools>=34.0.0 in /opt/conda/lib/python3.7/site-packages (from google-api-core[grpc]<2.0.0dev,>=1.22.0->google-cloud-documentai) (47.1.1.post20200529)\n",
      "Requirement already satisfied, skipping upgrade: grpcio<2.0dev,>=1.29.0; extra == \"grpc\" in /opt/conda/lib/python3.7/site-packages (from google-api-core[grpc]<2.0.0dev,>=1.22.0->google-cloud-documentai) (1.30.0)\n",
      "Requirement already satisfied, skipping upgrade: rsa<5,>=3.1.4; python_version >= \"3.5\" in /opt/conda/lib/python3.7/site-packages (from google-auth<2.0dev,>=1.21.1->google-api-core[grpc]<2.0.0dev,>=1.22.0->google-cloud-documentai) (4.0)\n",
      "Requirement already satisfied, skipping upgrade: pyasn1-modules>=0.2.1 in /opt/conda/lib/python3.7/site-packages (from google-auth<2.0dev,>=1.21.1->google-api-core[grpc]<2.0.0dev,>=1.22.0->google-cloud-documentai) (0.2.7)\n",
      "Requirement already satisfied, skipping upgrade: cachetools<5.0,>=2.0.0 in /opt/conda/lib/python3.7/site-packages (from google-auth<2.0dev,>=1.21.1->google-api-core[grpc]<2.0.0dev,>=1.22.0->google-cloud-documentai) (4.1.0)\n",
      "Requirement already satisfied, skipping upgrade: certifi>=2017.4.17 in /opt/conda/lib/python3.7/site-packages (from requests<3.0.0dev,>=2.18.0->google-api-core[grpc]<2.0.0dev,>=1.22.0->google-cloud-documentai) (2020.4.5.2)\n",
      "Requirement already satisfied, skipping upgrade: chardet<4,>=3.0.2 in /opt/conda/lib/python3.7/site-packages (from requests<3.0.0dev,>=2.18.0->google-api-core[grpc]<2.0.0dev,>=1.22.0->google-cloud-documentai) (3.0.4)\n",
      "Requirement already satisfied, skipping upgrade: idna<3,>=2.5 in /opt/conda/lib/python3.7/site-packages (from requests<3.0.0dev,>=2.18.0->google-api-core[grpc]<2.0.0dev,>=1.22.0->google-cloud-documentai) (2.9)\n",
      "Requirement already satisfied, skipping upgrade: urllib3!=1.25.0,!=1.25.1,<1.26,>=1.21.1 in /opt/conda/lib/python3.7/site-packages (from requests<3.0.0dev,>=2.18.0->google-api-core[grpc]<2.0.0dev,>=1.22.0->google-cloud-documentai) (1.25.9)\n",
      "Requirement already satisfied, skipping upgrade: pyasn1>=0.1.3 in /opt/conda/lib/python3.7/site-packages (from rsa<5,>=3.1.4; python_version >= \"3.5\"->google-auth<2.0dev,>=1.21.1->google-api-core[grpc]<2.0.0dev,>=1.22.0->google-cloud-documentai) (0.4.8)\n",
      "Note: you may need to restart the kernel to use updated packages.\n"
     ]
    }
   ],
   "source": [
    "pip install --upgrade google-cloud-documentai"
   ]
  },
  {
   "cell_type": "code",
   "execution_count": 5,
   "metadata": {
    "collapsed": true,
    "jupyter": {
     "outputs_hidden": true
    }
   },
   "outputs": [
    {
     "name": "stdout",
     "output_type": "stream",
     "text": [
      "Collecting simplejson\n",
      "  Downloading simplejson-3.17.2-cp37-cp37m-manylinux2010_x86_64.whl (128 kB)\n",
      "\u001b[K     |████████████████████████████████| 128 kB 5.4 MB/s eta 0:00:01\n",
      "\u001b[?25hInstalling collected packages: simplejson\n",
      "  Attempting uninstall: simplejson\n",
      "    Found existing installation: simplejson 3.17.0\n",
      "    Uninstalling simplejson-3.17.0:\n",
      "      Successfully uninstalled simplejson-3.17.0\n",
      "Successfully installed simplejson-3.17.2\n",
      "Note: you may need to restart the kernel to use updated packages.\n"
     ]
    }
   ],
   "source": [
    "pip install --upgrade simplejson"
   ]
  },
  {
   "cell_type": "code",
   "execution_count": 6,
   "metadata": {
    "collapsed": true,
    "jupyter": {
     "outputs_hidden": true
    }
   },
   "outputs": [
    {
     "name": "stdout",
     "output_type": "stream",
     "text": [
      "Requirement already up-to-date: google-cloud-storage in /opt/conda/lib/python3.7/site-packages (1.35.0)\n",
      "Requirement already satisfied, skipping upgrade: google-cloud-core<2.0dev,>=1.4.1 in /opt/conda/lib/python3.7/site-packages (from google-cloud-storage) (1.4.3)\n",
      "Requirement already satisfied, skipping upgrade: google-resumable-media<2.0dev,>=1.2.0 in /opt/conda/lib/python3.7/site-packages (from google-cloud-storage) (1.2.0)\n",
      "Requirement already satisfied, skipping upgrade: google-auth<2.0dev,>=1.11.0 in /opt/conda/lib/python3.7/site-packages (from google-cloud-storage) (1.21.1)\n",
      "Requirement already satisfied, skipping upgrade: requests<3.0.0dev,>=2.18.0 in /opt/conda/lib/python3.7/site-packages (from google-cloud-storage) (2.23.0)\n",
      "Requirement already satisfied, skipping upgrade: google-api-core<2.0.0dev,>=1.19.0 in /opt/conda/lib/python3.7/site-packages (from google-cloud-core<2.0dev,>=1.4.1->google-cloud-storage) (1.23.0)\n",
      "Requirement already satisfied, skipping upgrade: six in /opt/conda/lib/python3.7/site-packages (from google-resumable-media<2.0dev,>=1.2.0->google-cloud-storage) (1.15.0)\n",
      "Requirement already satisfied, skipping upgrade: google-crc32c<2.0dev,>=1.0; python_version >= \"3.5\" in /opt/conda/lib/python3.7/site-packages (from google-resumable-media<2.0dev,>=1.2.0->google-cloud-storage) (1.0.0)\n",
      "Requirement already satisfied, skipping upgrade: rsa<5,>=3.1.4; python_version >= \"3.5\" in /opt/conda/lib/python3.7/site-packages (from google-auth<2.0dev,>=1.11.0->google-cloud-storage) (4.0)\n",
      "Requirement already satisfied, skipping upgrade: cachetools<5.0,>=2.0.0 in /opt/conda/lib/python3.7/site-packages (from google-auth<2.0dev,>=1.11.0->google-cloud-storage) (4.1.0)\n",
      "Requirement already satisfied, skipping upgrade: setuptools>=40.3.0 in /opt/conda/lib/python3.7/site-packages (from google-auth<2.0dev,>=1.11.0->google-cloud-storage) (47.1.1.post20200529)\n",
      "Requirement already satisfied, skipping upgrade: pyasn1-modules>=0.2.1 in /opt/conda/lib/python3.7/site-packages (from google-auth<2.0dev,>=1.11.0->google-cloud-storage) (0.2.7)\n",
      "Requirement already satisfied, skipping upgrade: chardet<4,>=3.0.2 in /opt/conda/lib/python3.7/site-packages (from requests<3.0.0dev,>=2.18.0->google-cloud-storage) (3.0.4)\n",
      "Requirement already satisfied, skipping upgrade: certifi>=2017.4.17 in /opt/conda/lib/python3.7/site-packages (from requests<3.0.0dev,>=2.18.0->google-cloud-storage) (2020.4.5.2)\n",
      "Requirement already satisfied, skipping upgrade: idna<3,>=2.5 in /opt/conda/lib/python3.7/site-packages (from requests<3.0.0dev,>=2.18.0->google-cloud-storage) (2.9)\n",
      "Requirement already satisfied, skipping upgrade: urllib3!=1.25.0,!=1.25.1,<1.26,>=1.21.1 in /opt/conda/lib/python3.7/site-packages (from requests<3.0.0dev,>=2.18.0->google-cloud-storage) (1.25.9)\n",
      "Requirement already satisfied, skipping upgrade: googleapis-common-protos<2.0dev,>=1.6.0 in /opt/conda/lib/python3.7/site-packages (from google-api-core<2.0.0dev,>=1.19.0->google-cloud-core<2.0dev,>=1.4.1->google-cloud-storage) (1.52.0)\n",
      "Requirement already satisfied, skipping upgrade: pytz in /opt/conda/lib/python3.7/site-packages (from google-api-core<2.0.0dev,>=1.19.0->google-cloud-core<2.0dev,>=1.4.1->google-cloud-storage) (2020.1)\n",
      "Requirement already satisfied, skipping upgrade: protobuf>=3.12.0 in /opt/conda/lib/python3.7/site-packages (from google-api-core<2.0.0dev,>=1.19.0->google-cloud-core<2.0dev,>=1.4.1->google-cloud-storage) (3.12.2)\n",
      "Requirement already satisfied, skipping upgrade: cffi>=1.0.0 in /opt/conda/lib/python3.7/site-packages (from google-crc32c<2.0dev,>=1.0; python_version >= \"3.5\"->google-resumable-media<2.0dev,>=1.2.0->google-cloud-storage) (1.14.0)\n",
      "Requirement already satisfied, skipping upgrade: pyasn1>=0.1.3 in /opt/conda/lib/python3.7/site-packages (from rsa<5,>=3.1.4; python_version >= \"3.5\"->google-auth<2.0dev,>=1.11.0->google-cloud-storage) (0.4.8)\n",
      "Requirement already satisfied, skipping upgrade: pycparser in /opt/conda/lib/python3.7/site-packages (from cffi>=1.0.0->google-crc32c<2.0dev,>=1.0; python_version >= \"3.5\"->google-resumable-media<2.0dev,>=1.2.0->google-cloud-storage) (2.20)\n",
      "Note: you may need to restart the kernel to use updated packages.\n"
     ]
    }
   ],
   "source": [
    "pip install --upgrade google-cloud-storage"
   ]
  },
  {
   "cell_type": "code",
   "execution_count": null,
   "metadata": {},
   "outputs": [],
   "source": [
    "pip install --upgrade googleapis-common-protos"
   ]
  },
  {
   "cell_type": "code",
   "execution_count": 95,
   "metadata": {},
   "outputs": [],
   "source": [
    "from google.cloud import documentai_v1beta3 as documentai, bigquery\n",
    "import simplejson as json\n",
    "import proto\n",
    "from google.cloud import storage\n",
    "\n",
    "# [START documentai_process_document]\n",
    "\n",
    "# TODO(developer): Uncomment these variables before running the sample.\n",
    "# project_id= 'YOUR_PROJECT_ID';\n",
    "# location = 'YOUR_PROJECT_LOCATION'; // Format is 'us' or 'eu'\n",
    "# processor_id = 'YOUR_PROCESSOR_ID'; // Create processor in Cloud Console\n",
    "# bucket_name = '/path/to/bucket'\n",
    "# file_path = '/path/to/bucketFile/pdf';\n",
    "\n",
    "\n",
    "def process_document_sample(\n",
    "    project_id: str, location: str, processor_id: str, bucket_name: str, file_path: str\n",
    "):\n",
    "    # Instantiates a client\n",
    "    client = documentai.DocumentProcessorServiceClient()\n",
    "\n",
    "    # The full resource name of the processor, e.g.:\n",
    "    # projects/project-id/locations/location/processor/processor-id\n",
    "    # You must create new processors in the Cloud Console first\n",
    "    name = f\"projects/{project_id}/locations/{location}/processors/{processor_id}\"\n",
    "\n",
    "    image_content = download_blob(bucket_name, file_path).download_as_bytes()\n",
    "\n",
    "    # Read the file into memory\n",
    "    document = {\"content\": image_content, \"mime_type\": \"application/pdf\"}\n",
    "\n",
    "    # Configure the process request\n",
    "    request = {\"name\": name, \"document\": document}\n",
    "\n",
    "    # Recognizes text entities in the PDF document\n",
    "    result = client.process_document(request=request)\n",
    "    \n",
    "    document = result.document\n",
    "    \n",
    "    entityDict={}\n",
    "    lineItem_text=\"\"\n",
    "\n",
    "    for entity in document.entities:\n",
    "        entity_type = entity.type_\n",
    "        #print (entity)\n",
    "        if(entity.normalized_value.text!=\"\"):\n",
    "            entity_text = entity.normalized_value.text\n",
    "        else:\n",
    "            entity_text = entity.mention_text\n",
    "        \n",
    "        # Placeholder code below to test whether the amount fields have strings with commas coming in. Converting them to floats for now.        \n",
    "        if(\"amount\" in entity_type and entity.normalized_value.text ==''):\n",
    "            entity_text = float(entity.mention_text.replace(',',''))\n",
    "            #print(\"Entity Type:{},entity_text:{}\".format(entity_type, entity_text))\n",
    "\n",
    "        if(entity_type==\"line_item\"):\n",
    "            lineItem_text =  lineItem_text+'{'\n",
    "            for prop in entity.properties:\n",
    "                pName=prop.type_[prop.type_.index(\"/\")+1:]\n",
    "                if(\"amount\" in pName and prop.normalized_value.text ==''):\n",
    "                    prop.mention_text = float(prop.mention_text.replace(',',''))\n",
    "                else:\n",
    "                    prop.mention_text =prop.normalized_value.text\n",
    "                lineItem_text = lineItem_text+ \"\\\"\"+pName +\"\\\"\"+\":\"+ \"[\\\"\"+prop.mention_text+ \"\\\"]\"+\",\"                                \n",
    "            lineItem_text = lineItem_text[0:lineItem_text.rindex(\",\")]\n",
    "            \n",
    "            lineItem_text = lineItem_text+'},'\n",
    "            #print(\"lineItem_text text before:{}\".format(lineItem_text))\n",
    "        if(entity_type!=\"line_item\"):\n",
    "            entityDict[entity_type]=entity_text    \n",
    "    \n",
    "    if(lineItem_text!=\"\"):\n",
    "        lineItem_text = lineItem_text[0:lineItem_text.rindex(\",\")]\n",
    "        lineItem_text = \"[\"+lineItem_text+\"]\"     \n",
    "        #Take out any special characters\n",
    "        lineItem_text = lineItem_text.replace('\\n', '')\n",
    "        lineItem_t = json.loads(lineItem_text)\n",
    "    \n",
    "        #print(\"Final Line Item:{}\".format(lineItem_t))\n",
    "        entityDict[\"line_item\"]=lineItem_t    \n",
    "    \n",
    "    #document_pages = document.pages\n",
    "\n",
    "    #Calling the WiteToBQ Method\n",
    "    #writeToBQ(entityDict)  \n",
    "\n",
    "# Extract shards from the text field\n",
    "def get_text(doc_element: dict, document: dict):\n",
    "    \"\"\"\n",
    "    Document AI identifies form fields by their offsets\n",
    "    in document text. This function converts offsets\n",
    "    to text snippets.\n",
    "    \"\"\"\n",
    "    response = \"\"\n",
    "    # If a text segment spans several lines, it will\n",
    "    # be stored in different text segments.\n",
    "    for segment in doc_element.text_anchor.text_segments:\n",
    "        #print(\"Segments: ---> \",doc_element.text_anchor.text_segments)\n",
    "        #print(\"Segment start index: ---> \",segment.start_index)\n",
    "        start_index = (\n",
    "            int(segment.start_index)            \n",
    "            if segment in doc_element.text_anchor.text_segments else 0\n",
    "            #if segment.start_index in doc_element.text_anchor.text_segments else 0\n",
    "        )\n",
    "        end_index = int(segment.end_index)\n",
    "        response += document.text[start_index:end_index]   \n",
    "        #print (\"Start Index:{}, End Index:{}\".format(start_index, end_index))\n",
    "    #print (\"returning text seg resp: {}\".format(response))\n",
    "    return response\n",
    "\n",
    "def download_blob(bucket_name, source_blob_name):\n",
    "    \"\"\"Downloads a blob from the bucket.\"\"\"\n",
    "\n",
    "    storage_client = storage.Client()\n",
    "    bucket = storage_client.bucket(bucket_name)\n",
    "    blob = bucket.blob(source_blob_name)\n",
    "\n",
    "    return blob\n",
    "    \n",
    "# [END documentai_process_document]"
   ]
  },
  {
   "cell_type": "code",
   "execution_count": 96,
   "metadata": {},
   "outputs": [
    {
     "name": "stdout",
     "output_type": "stream",
     "text": [
      "Inserting into BQ ************** \n",
      "Adding the row\n",
      " ********** NEW Row Column:  [{'due_date': '2020-10-08', 'invoice_date': '2020-10-08', 'invoice_id': '0000003', 'net_amount': 240.0, 'supplier_name': 'another fake one', 'total_amount': '240', 'currency': '$', 'supplier_address': '21550 fake ave.', 'line_item': [{'amount': ['120'], 'description': [''], 'quantity': ['20.00'], 'unit_price': ['6']}, {'amount': ['120'], 'description': [''], 'quantity': ['15.00'], 'unit_price': ['8']}]}]\n",
      "New rows have been added.\n"
     ]
    }
   ],
   "source": [
    "process_document_sample(project_id='ir-demo-agent-rajatgupta-diqxp', location='us', processor_id='d0c6db9d3ac5d9ff', bucket_name='docai_pipeline_predict_input', file_path='Inv_3.pdf')"
   ]
  }
 ],
 "metadata": {
  "environment": {
   "name": "common-cpu.m49",
   "type": "gcloud",
   "uri": "gcr.io/deeplearning-platform-release/base-cpu:m49"
  },
  "kernelspec": {
   "display_name": "Python 3",
   "language": "python",
   "name": "python3"
  },
  "language_info": {
   "codemirror_mode": {
    "name": "ipython",
    "version": 3
   },
   "file_extension": ".py",
   "mimetype": "text/x-python",
   "name": "python",
   "nbconvert_exporter": "python",
   "pygments_lexer": "ipython3",
   "version": "3.7.6"
  }
 },
 "nbformat": 4,
 "nbformat_minor": 4
}
